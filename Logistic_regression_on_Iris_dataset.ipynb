{
  "nbformat": 4,
  "nbformat_minor": 0,
  "metadata": {
    "colab": {
      "provenance": [],
      "authorship_tag": "ABX9TyPtSTsgkUB4SmS30Ett2WPv",
      "include_colab_link": true
    },
    "kernelspec": {
      "name": "python3",
      "display_name": "Python 3"
    },
    "language_info": {
      "name": "python"
    }
  },
  "cells": [
    {
      "cell_type": "markdown",
      "metadata": {
        "id": "view-in-github",
        "colab_type": "text"
      },
      "source": [
        "<a href=\"https://colab.research.google.com/github/AKASH7088/data-science/blob/main/Logistic_regression_on_Iris_dataset.ipynb\" target=\"_parent\"><img src=\"https://colab.research.google.com/assets/colab-badge.svg\" alt=\"Open In Colab\"/></a>"
      ]
    },
    {
      "cell_type": "code",
      "execution_count": 1,
      "metadata": {
        "colab": {
          "base_uri": "https://localhost:8080/"
        },
        "id": "dmrQAc2-zqnO",
        "outputId": "2096b1b8-5af1-4867-8d1e-23ab71907397"
      },
      "outputs": [
        {
          "output_type": "stream",
          "name": "stdout",
          "text": [
            "LogisticRegression(max_iter=10000)\n",
            "0.9733333333333334\n"
          ]
        }
      ],
      "source": [
        "from sklearn import datasets\n",
        "df=datasets.load_iris()\n",
        "x=df[\"data\"]\n",
        "y=df[\"target\"]\n",
        "from sklearn.linear_model import LogisticRegression\n",
        "lr=LogisticRegression(max_iter=10000)\n",
        "print(lr.fit(x,y))\n",
        "print(lr.score(x,y))"
      ]
    }
  ]
}