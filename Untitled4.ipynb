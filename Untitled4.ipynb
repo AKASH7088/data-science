{
  "nbformat": 4,
  "nbformat_minor": 0,
  "metadata": {
    "colab": {
      "provenance": [],
      "include_colab_link": true
    },
    "kernelspec": {
      "name": "python3",
      "display_name": "Python 3"
    },
    "language_info": {
      "name": "python"
    }
  },
  "cells": [
    {
      "cell_type": "markdown",
      "metadata": {
        "id": "view-in-github",
        "colab_type": "text"
      },
      "source": [
        "<a href=\"https://colab.research.google.com/github/AKASH7088/data-science/blob/main/Untitled4.ipynb\" target=\"_parent\"><img src=\"https://colab.research.google.com/assets/colab-badge.svg\" alt=\"Open In Colab\"/></a>"
      ]
    },
    {
      "cell_type": "code",
      "source": [
        "import pandas as pd\n",
        "import numpy as np\n",
        "from sklearn.neighbors import KNeighborsClassifier\n",
        "from sklearn.model_selection import train_test_split\n",
        "data=pd.read_csv(\"/content/user_behavior_dataset.csv\")\n",
        "print(data)"
      ],
      "metadata": {
        "id": "QgllYSi1aGJI",
        "outputId": "4080a792-4cbc-4178-98ae-a3388f230a18",
        "colab": {
          "base_uri": "https://localhost:8080/"
        }
      },
      "execution_count": 2,
      "outputs": [
        {
          "output_type": "stream",
          "name": "stdout",
          "text": [
            "     User ID        Device Model Operating System  App Usage Time (min/day)  \\\n",
            "0          1      Google Pixel 5          Android                       393   \n",
            "1          2           OnePlus 9          Android                       268   \n",
            "2          3        Xiaomi Mi 11          Android                       154   \n",
            "3          4      Google Pixel 5          Android                       239   \n",
            "4          5           iPhone 12              iOS                       187   \n",
            "..       ...                 ...              ...                       ...   \n",
            "695      696           iPhone 12              iOS                        92   \n",
            "696      697        Xiaomi Mi 11          Android                       316   \n",
            "697      698      Google Pixel 5          Android                        99   \n",
            "698      699  Samsung Galaxy S21          Android                        62   \n",
            "699      700           OnePlus 9          Android                       212   \n",
            "\n",
            "     Screen On Time (hours/day)  Battery Drain (mAh/day)  \\\n",
            "0                           6.4                     1872   \n",
            "1                           4.7                     1331   \n",
            "2                           4.0                      761   \n",
            "3                           4.8                     1676   \n",
            "4                           4.3                     1367   \n",
            "..                          ...                      ...   \n",
            "695                         3.9                     1082   \n",
            "696                         6.8                     1965   \n",
            "697                         3.1                      942   \n",
            "698                         1.7                      431   \n",
            "699                         5.4                     1306   \n",
            "\n",
            "     Number of Apps Installed  Data Usage (MB/day)  Age  Gender  \\\n",
            "0                          67                 1122   40    Male   \n",
            "1                          42                  944   47  Female   \n",
            "2                          32                  322   42    Male   \n",
            "3                          56                  871   20    Male   \n",
            "4                          58                  988   31  Female   \n",
            "..                        ...                  ...  ...     ...   \n",
            "695                        26                  381   22    Male   \n",
            "696                        68                 1201   59    Male   \n",
            "697                        22                  457   50  Female   \n",
            "698                        13                  224   44    Male   \n",
            "699                        49                  828   23  Female   \n",
            "\n",
            "     User Behavior Class  \n",
            "0                      4  \n",
            "1                      3  \n",
            "2                      2  \n",
            "3                      3  \n",
            "4                      3  \n",
            "..                   ...  \n",
            "695                    2  \n",
            "696                    4  \n",
            "697                    2  \n",
            "698                    1  \n",
            "699                    3  \n",
            "\n",
            "[700 rows x 11 columns]\n"
          ]
        }
      ]
    },
    {
      "cell_type": "code",
      "source": [
        "from sklearn import preprocessing\n",
        "le=preprocessing.LabelEncoder()\n",
        "\n",
        "#apply label Encoding to each column individually\n",
        "for column in ['Device Model', 'Operating System', 'Gender']:\n",
        "    data[column] = le.fit_transform(data[column])\n",
        "    data.head()\n",
        "    print(data.head())"
      ],
      "metadata": {
        "id": "7VCKQUTDahDf",
        "outputId": "8c9f91ee-c4cc-4e1f-a522-5a6ff4fd425a",
        "colab": {
          "base_uri": "https://localhost:8080/"
        }
      },
      "execution_count": 3,
      "outputs": [
        {
          "output_type": "stream",
          "name": "stdout",
          "text": [
            "   User ID  Device Model Operating System  App Usage Time (min/day)  \\\n",
            "0        1             0          Android                       393   \n",
            "1        2             1          Android                       268   \n",
            "2        3             3          Android                       154   \n",
            "3        4             0          Android                       239   \n",
            "4        5             4              iOS                       187   \n",
            "\n",
            "   Screen On Time (hours/day)  Battery Drain (mAh/day)  \\\n",
            "0                         6.4                     1872   \n",
            "1                         4.7                     1331   \n",
            "2                         4.0                      761   \n",
            "3                         4.8                     1676   \n",
            "4                         4.3                     1367   \n",
            "\n",
            "   Number of Apps Installed  Data Usage (MB/day)  Age  Gender  \\\n",
            "0                        67                 1122   40    Male   \n",
            "1                        42                  944   47  Female   \n",
            "2                        32                  322   42    Male   \n",
            "3                        56                  871   20    Male   \n",
            "4                        58                  988   31  Female   \n",
            "\n",
            "   User Behavior Class  \n",
            "0                    4  \n",
            "1                    3  \n",
            "2                    2  \n",
            "3                    3  \n",
            "4                    3  \n",
            "   User ID  Device Model  Operating System  App Usage Time (min/day)  \\\n",
            "0        1             0                 0                       393   \n",
            "1        2             1                 0                       268   \n",
            "2        3             3                 0                       154   \n",
            "3        4             0                 0                       239   \n",
            "4        5             4                 1                       187   \n",
            "\n",
            "   Screen On Time (hours/day)  Battery Drain (mAh/day)  \\\n",
            "0                         6.4                     1872   \n",
            "1                         4.7                     1331   \n",
            "2                         4.0                      761   \n",
            "3                         4.8                     1676   \n",
            "4                         4.3                     1367   \n",
            "\n",
            "   Number of Apps Installed  Data Usage (MB/day)  Age  Gender  \\\n",
            "0                        67                 1122   40    Male   \n",
            "1                        42                  944   47  Female   \n",
            "2                        32                  322   42    Male   \n",
            "3                        56                  871   20    Male   \n",
            "4                        58                  988   31  Female   \n",
            "\n",
            "   User Behavior Class  \n",
            "0                    4  \n",
            "1                    3  \n",
            "2                    2  \n",
            "3                    3  \n",
            "4                    3  \n",
            "   User ID  Device Model  Operating System  App Usage Time (min/day)  \\\n",
            "0        1             0                 0                       393   \n",
            "1        2             1                 0                       268   \n",
            "2        3             3                 0                       154   \n",
            "3        4             0                 0                       239   \n",
            "4        5             4                 1                       187   \n",
            "\n",
            "   Screen On Time (hours/day)  Battery Drain (mAh/day)  \\\n",
            "0                         6.4                     1872   \n",
            "1                         4.7                     1331   \n",
            "2                         4.0                      761   \n",
            "3                         4.8                     1676   \n",
            "4                         4.3                     1367   \n",
            "\n",
            "   Number of Apps Installed  Data Usage (MB/day)  Age  Gender  \\\n",
            "0                        67                 1122   40       1   \n",
            "1                        42                  944   47       0   \n",
            "2                        32                  322   42       1   \n",
            "3                        56                  871   20       1   \n",
            "4                        58                  988   31       0   \n",
            "\n",
            "   User Behavior Class  \n",
            "0                    4  \n",
            "1                    3  \n",
            "2                    2  \n",
            "3                    3  \n",
            "4                    3  \n"
          ]
        }
      ]
    },
    {
      "cell_type": "code",
      "source": [
        "x=data[[\"Device Model\",\"Operating System\",\"App Usage Time (min/day)\",\"Screen On Time (hours/day)\",\"Battery Drain (mAh/day)\",\"Number of Apps Installed\",\"Data Usage (MB/day)\",\"Age\",\"Gender\"]].values\n",
        "y=data[\"User Behavior Class\"].values\n",
        "print(x,y)"
      ],
      "metadata": {
        "id": "7NnwqTCtajTS",
        "outputId": "7b626ffa-f7e2-45b0-cd60-51a5fd3c3562",
        "colab": {
          "base_uri": "https://localhost:8080/"
        }
      },
      "execution_count": 4,
      "outputs": [
        {
          "output_type": "stream",
          "name": "stdout",
          "text": [
            "[[0.000e+00 0.000e+00 3.930e+02 ... 1.122e+03 4.000e+01 1.000e+00]\n",
            " [1.000e+00 0.000e+00 2.680e+02 ... 9.440e+02 4.700e+01 0.000e+00]\n",
            " [3.000e+00 0.000e+00 1.540e+02 ... 3.220e+02 4.200e+01 1.000e+00]\n",
            " ...\n",
            " [0.000e+00 0.000e+00 9.900e+01 ... 4.570e+02 5.000e+01 0.000e+00]\n",
            " [2.000e+00 0.000e+00 6.200e+01 ... 2.240e+02 4.400e+01 1.000e+00]\n",
            " [1.000e+00 0.000e+00 2.120e+02 ... 8.280e+02 2.300e+01 0.000e+00]] [4 3 2 3 3 2 4 5 4 4 1 3 4 3 3 5 2 3 1 5 2 5 4 3 3 2 4 5 4 4 3 3 3 1 5 1 2\n",
            " 5 4 4 3 5 2 2 2 5 5 2 5 5 4 3 2 2 5 1 1 5 4 4 5 4 1 5 4 3 3 2 5 1 4 5 4 1\n",
            " 1 3 1 2 1 3 5 2 4 1 3 4 2 1 2 4 2 3 1 2 4 4 5 5 1 3 1 3 2 3 2 1 2 1 3 3 2\n",
            " 5 3 2 4 2 1 3 1 2 4 5 5 5 3 5 4 3 2 2 5 4 2 1 1 5 1 3 5 5 3 4 2 1 5 3 4 1\n",
            " 3 2 5 1 2 4 1 2 1 4 4 2 1 1 4 1 3 5 5 1 3 5 2 1 2 4 1 3 3 3 3 5 2 4 5 1 5\n",
            " 5 4 1 2 1 2 1 4 3 4 3 3 2 1 2 5 2 1 1 2 4 1 2 5 3 4 5 2 1 2 5 4 5 5 2 4 2\n",
            " 4 5 2 5 4 3 2 4 2 5 5 2 2 1 5 4 1 5 1 5 2 4 1 3 1 4 2 1 1 4 5 2 1 4 4 3 3\n",
            " 5 1 4 5 1 4 5 3 5 3 4 4 3 2 2 2 5 3 3 1 4 1 1 4 1 4 5 4 3 2 1 4 1 1 3 5 1\n",
            " 4 2 3 2 4 3 4 5 2 2 3 4 3 4 3 4 2 2 3 1 3 2 4 5 3 3 4 1 4 3 3 1 1 5 3 2 3\n",
            " 4 1 5 4 1 4 1 1 5 5 3 3 4 2 1 2 4 4 1 3 4 1 1 3 5 1 3 5 5 1 4 5 4 5 5 2 2\n",
            " 5 5 5 5 1 1 1 4 5 2 3 5 1 2 2 4 2 1 5 2 4 4 2 4 5 4 1 5 1 1 5 2 4 5 5 4 2\n",
            " 4 4 4 5 5 3 3 2 2 3 5 3 1 1 2 4 1 3 2 2 2 2 5 3 2 5 1 5 2 3 1 2 2 3 3 1 3\n",
            " 5 4 5 3 2 1 2 5 2 1 2 1 1 3 1 2 5 2 3 3 1 3 4 3 4 1 3 5 2 3 3 4 4 3 3 3 2\n",
            " 5 5 1 4 1 2 3 4 5 4 2 1 4 2 5 3 2 3 2 1 4 5 3 5 4 3 1 3 5 3 5 1 2 4 2 2 1\n",
            " 5 2 4 1 4 5 3 3 2 1 2 3 5 4 4 3 4 2 3 5 5 5 5 2 3 3 5 1 3 2 4 2 4 2 2 4 4\n",
            " 3 2 3 4 5 4 2 1 1 3 1 2 1 3 4 4 4 3 5 5 2 5 4 3 1 5 2 3 1 1 2 3 4 4 2 2 5\n",
            " 4 3 4 5 5 2 2 3 4 1 2 2 3 4 5 3 3 5 5 1 5 1 2 2 3 3 4 3 3 1 4 1 1 1 3 3 1\n",
            " 4 2 3 5 2 4 2 5 1 4 5 1 1 5 2 3 2 1 1 4 3 2 1 3 1 5 2 3 3 4 5 1 2 2 4 5 3\n",
            " 5 3 2 2 1 4 5 1 5 1 2 2 3 1 4 4 3 1 3 4 4 4 3 5 3 2 4 5 5 2 4 2 1 3]\n"
          ]
        }
      ]
    },
    {
      "cell_type": "code",
      "source": [
        "from sklearn.model_selection import train_test_split\n",
        "x_train,x_test,y_train,y_test=train_test_split(x,y,test_size=0.3,random_state=0)\n",
        "print(x_train)\n",
        "print(x_test)\n",
        "print(y_train)\n",
        "print(y_test)"
      ],
      "metadata": {
        "id": "rr04cuoyaqGe",
        "outputId": "de89d911-3858-47fc-9621-686c6e34e98c",
        "colab": {
          "base_uri": "https://localhost:8080/"
        }
      },
      "execution_count": 5,
      "outputs": [
        {
          "output_type": "stream",
          "name": "stdout",
          "text": [
            "[[2.000e+00 0.000e+00 3.500e+02 ... 1.054e+03 2.100e+01 0.000e+00]\n",
            " [2.000e+00 0.000e+00 4.120e+02 ... 1.085e+03 5.400e+01 0.000e+00]\n",
            " [4.000e+00 1.000e+00 5.210e+02 ... 1.701e+03 3.700e+01 1.000e+00]\n",
            " ...\n",
            " [4.000e+00 1.000e+00 4.610e+02 ... 1.004e+03 2.100e+01 1.000e+00]\n",
            " [1.000e+00 0.000e+00 5.530e+02 ... 1.860e+03 4.700e+01 1.000e+00]\n",
            " [0.000e+00 0.000e+00 2.180e+02 ... 8.220e+02 2.500e+01 1.000e+00]]\n",
            "[[1.000e+00 0.000e+00 2.430e+02 ... 8.770e+02 4.300e+01 1.000e+00]\n",
            " [1.000e+00 0.000e+00 1.820e+02 ... 8.850e+02 5.400e+01 0.000e+00]\n",
            " [3.000e+00 0.000e+00 2.400e+02 ... 7.080e+02 5.600e+01 0.000e+00]\n",
            " ...\n",
            " [0.000e+00 0.000e+00 5.030e+02 ... 2.025e+03 3.900e+01 0.000e+00]\n",
            " [4.000e+00 1.000e+00 3.200e+01 ... 1.980e+02 5.600e+01 1.000e+00]\n",
            " [0.000e+00 0.000e+00 3.140e+02 ... 1.066e+03 1.900e+01 1.000e+00]]\n",
            "[4 4 5 1 4 1 5 2 5 2 4 1 5 4 2 2 3 2 4 1 3 2 5 2 1 3 2 3 1 4 1 2 1 4 2 4 5\n",
            " 1 3 4 1 2 3 4 3 2 2 4 3 3 5 1 5 1 4 4 4 1 5 4 5 1 4 4 1 4 2 5 5 2 3 1 2 3\n",
            " 1 3 5 5 3 3 3 2 2 4 5 4 2 3 1 2 4 2 1 2 2 3 5 5 3 1 1 2 5 4 5 1 3 5 2 3 3\n",
            " 4 5 1 3 3 3 3 5 2 4 3 5 4 4 5 3 1 1 3 5 5 4 1 5 3 5 2 4 1 5 5 1 4 1 4 5 3\n",
            " 4 3 5 3 1 3 1 4 4 5 2 3 2 3 2 4 3 4 3 2 3 1 5 1 2 2 3 1 4 1 3 2 2 3 4 2 4\n",
            " 2 5 3 5 1 4 5 3 4 4 1 1 4 4 3 1 4 2 4 3 1 1 5 1 3 1 2 1 1 1 5 3 1 1 4 2 3\n",
            " 2 2 5 2 1 5 1 5 4 5 4 4 2 5 1 1 5 2 4 1 3 2 5 4 4 2 1 5 4 2 3 4 3 5 1 2 1\n",
            " 2 5 4 1 5 4 4 4 3 2 3 2 3 1 5 3 1 1 4 1 2 4 1 1 5 4 1 1 1 3 5 2 4 3 4 5 1\n",
            " 1 2 3 4 2 4 5 4 4 2 5 5 2 1 4 4 1 2 5 3 2 5 2 2 4 3 2 2 3 5 4 2 4 5 5 2 2\n",
            " 2 5 1 3 3 1 3 5 1 2 4 3 1 2 2 2 2 2 2 5 1 1 2 2 2 5 5 1 4 4 4 4 2 1 4 2 5\n",
            " 5 5 2 1 5 4 5 3 5 4 3 2 2 2 4 5 5 1 3 3 4 5 5 1 4 5 3 4 3 5 1 2 2 2 4 5 1\n",
            " 1 4 5 2 4 2 5 2 2 4 5 3 1 2 4 2 4 1 3 2 1 1 1 3 4 3 2 1 5 3 3 5 1 2 3 5 5\n",
            " 2 4 4 2 1 2 4 1 2 3 1 1 3 5 5 5 2 1 1 5 3 3 2 2 2 4 5 2 5 1 1 2 2 3 1 4 2\n",
            " 4 3 3 4 3 4 4 5 3]\n",
            "[3 3 3 4 3 4 5 3 5 3 1 1 3 2 4 3 3 2 3 5 1 3 1 1 3 5 4 3 3 3 3 1 2 3 4 2 4\n",
            " 4 5 4 4 5 4 2 5 3 5 4 3 4 3 1 5 1 2 2 5 2 4 3 4 3 3 1 4 3 2 3 1 4 3 1 5 3\n",
            " 5 5 3 3 2 2 2 1 4 3 2 3 5 4 4 3 4 5 2 2 5 4 5 5 2 1 4 3 1 4 2 3 1 5 5 1 2\n",
            " 1 2 1 4 3 4 2 1 3 2 2 5 1 3 3 1 5 3 4 5 3 3 1 5 1 3 2 5 5 5 5 1 2 2 2 3 1\n",
            " 4 3 3 5 5 2 5 1 3 2 2 1 4 1 1 3 4 3 5 2 5 3 4 3 2 4 2 5 4 5 4 5 5 2 3 5 2\n",
            " 5 2 4 1 3 2 3 3 2 4 1 1 4 3 4 5 1 1 3 2 5 1 5 1 4]\n"
          ]
        }
      ]
    },
    {
      "cell_type": "code",
      "source": [
        "#import the class\n",
        "from sklearn.linear_model import LogisticRegression as logisticregression\n",
        "\n",
        "#instantiate the model (using the default parameters)\n",
        "logres=logisticregression()\n",
        "\n",
        "#fit the model with data\n",
        "logres.fit(x_train,y_train)#75% data for analysis\n",
        "\n",
        "#\n",
        "y_pred=logres.predict(x_test) # 25% of data is used for testing\n",
        "print(y_pred)"
      ],
      "metadata": {
        "id": "2wjcHTOdawAb",
        "outputId": "4ed3ba68-389d-4143-e1cf-1e2f77cc4b45",
        "colab": {
          "base_uri": "https://localhost:8080/"
        }
      },
      "execution_count": 6,
      "outputs": [
        {
          "output_type": "stream",
          "name": "stdout",
          "text": [
            "[4 2 2 5 2 4 5 3 5 4 1 1 4 2 4 5 3 1 3 5 1 4 1 1 3 5 4 3 2 4 3 2 2 5 5 2 3\n",
            " 4 5 4 5 5 5 2 5 2 5 5 4 5 4 1 5 2 3 3 5 2 3 4 5 3 4 1 4 2 2 3 2 4 4 1 4 3\n",
            " 5 5 4 2 2 2 2 1 4 2 1 3 5 4 5 2 3 5 2 2 5 4 5 5 2 1 5 4 1 4 2 3 1 5 5 1 1\n",
            " 1 2 1 3 3 4 2 2 3 2 1 5 2 4 4 1 5 3 4 5 4 2 2 5 1 3 3 5 5 5 4 1 2 3 2 2 1\n",
            " 4 3 2 5 4 2 4 1 3 2 4 1 5 1 1 3 4 3 5 1 5 4 4 2 2 3 2 4 4 5 5 5 5 2 4 5 2\n",
            " 5 2 4 1 3 3 3 3 2 3 1 1 3 3 3 5 1 2 4 2 5 2 5 1 4]\n"
          ]
        },
        {
          "output_type": "stream",
          "name": "stderr",
          "text": [
            "/usr/local/lib/python3.10/dist-packages/sklearn/linear_model/_logistic.py:469: ConvergenceWarning: lbfgs failed to converge (status=1):\n",
            "STOP: TOTAL NO. of ITERATIONS REACHED LIMIT.\n",
            "\n",
            "Increase the number of iterations (max_iter) or scale the data as shown in:\n",
            "    https://scikit-learn.org/stable/modules/preprocessing.html\n",
            "Please also refer to the documentation for alternative solver options:\n",
            "    https://scikit-learn.org/stable/modules/linear_model.html#logistic-regression\n",
            "  n_iter_i = _check_optimize_result(\n"
          ]
        }
      ]
    },
    {
      "cell_type": "code",
      "source": [
        "%matplotlib inline\n",
        "\n",
        "\n",
        "#import required module\n",
        "import matplotlib.pyplot as plt\n",
        "import seaborn as sns # Import seaborn\n",
        "import pandas as pd\n",
        "import numpy as np\n",
        "from sklearn.metrics import confusion_matrix # Import confusion_matrix\n",
        "\n",
        "# ... (rest of your code) ...\n",
        "\n",
        "# Assuming y_test and y_pred are defined from your previous code cells\n",
        "cm = confusion_matrix(y_test, y_pred) # Calculate confusion matrix\n",
        "\n",
        "class_name=[0,1,2,3,4]\n",
        "fig, ax=plt.subplots()\n",
        "tick_marks=np.arange(len(class_name))\n",
        "plt.xticks(tick_marks ,class_name)\n",
        "plt.yticks(tick_marks ,class_name)\n",
        "#creat heatmap\n",
        "sns.heatmap(pd.DataFrame(cm),annot=True,cmap=\"YlGnBu\",fmt=\"g\")\n",
        "ax.xaxis.set_label_position(\"bottom\")\n",
        "plt.tight_layout()\n",
        "plt.title(\"Confusion matrix\",y=1.4)\n",
        "plt.ylabel(\"Actual label\")\n",
        "plt.xlabel(\"Predicted label\")"
      ],
      "metadata": {
        "id": "ySO4XGwAa1WX",
        "outputId": "5c563564-50ae-4aff-da3e-7fa29dff10fa",
        "colab": {
          "base_uri": "https://localhost:8080/",
          "height": 716
        }
      },
      "execution_count": 7,
      "outputs": [
        {
          "output_type": "execute_result",
          "data": {
            "text/plain": [
              "Text(0.5, 23.52222222222222, 'Predicted\\xa0label')"
            ]
          },
          "metadata": {},
          "execution_count": 7
        },
        {
          "output_type": "display_data",
          "data": {
            "text/plain": [
              "<Figure size 640x480 with 2 Axes>"
            ],
            "image/png": "[encoded data removed]"
          },
          "metadata": {}
        }
      ]
    },
    {
      "cell_type": "code",
      "source": [
        "from sklearn import metrics # Import the metrics module from sklearn\n",
        "\n",
        "print(\"Accuracy:\",metrics.accuracy_score(y_test,y_pred))\n",
        "print(\"Precision:\",metrics.precision_score(y_test,y_pred, average='weighted')) # Add average parameter\n",
        "print(\"Recall:\",metrics.recall_score(y_test,y_pred, average='weighted')) # Add average parameter\n",
        "print(\"F1 score:\",metrics.f1_score(y_test,y_pred, average='weighted')) # Add average parameter"
      ],
      "metadata": {
        "id": "ZvWWyYkia-Jm",
        "outputId": "4973088e-b445-470a-d2ed-e837dae23427",
        "colab": {
          "base_uri": "https://localhost:8080/"
        }
      },
      "execution_count": 8,
      "outputs": [
        {
          "output_type": "stream",
          "name": "stdout",
          "text": [
            "Accuracy: 0.638095238095238\n",
            "Precision: 0.6455663333221472\n",
            "Recall: 0.638095238095238\n",
            "F1 score: 0.6318458362386011\n"
          ]
        }
      ]
    }
  ]
}